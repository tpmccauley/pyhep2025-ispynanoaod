{
 "cells": [
  {
   "cell_type": "markdown",
   "id": "017cef17-d79f-4702-972e-61447ed50ef0",
   "metadata": {},
   "source": [
    "# [ISpy NanoAOD: an event display for the CMS NanoAOD format](https://indico.cern.ch/event/1566263/contributions/6736107/)\n",
    "\n",
    "### Tom McCauley\n",
    "### University of Notre Dame, USA\n",
    "### PyHEP 2025, CERN\n",
    "\n",
    "## Introduction\n",
    "The CMS Experiment introduced a new lightweight (~ 1-2 kB / event) format for physics analysis, [NanoAOD](https://doi.org/10.1051/epjconf/202024506002), during Run 2 of the LHC.\n",
    "\n",
    "Stored as `ROOT` TTrees, NanoAOD can be read directly with [ROOT](https://root.cern/) or with Python libraries such as [`uproot`](https://github.com/scikit-hep/uproot5), which provides \"ROOT I/O in pure Python and NumPy\". \n",
    "\n",
    "Current CMS event displays rely on (at-least) the larger MiniAOD data tier, which requires CMS-specific software and resources and includes information not available in NanoAOD to produce displays such as this one which was created with a [browser-based application](https://github.com/cms-outreach/ispy-webgl) using [`three.js`](https://threejs.org/), a WebGL library and API.\n",
    "\n",
    "![img](imgs/TOP-23-009_0.png)"
   ]
  },
  {
   "cell_type": "markdown",
   "id": "12396b8f-4ed0-4408-8696-e471978c8590",
   "metadata": {},
   "source": [
    "`ispynanoaod` is a prototype Python package that provides interactive 3D visualization of NanoAOD event content within Jupyter notebooks. Built on `uproot`, [`awkward`](https://awkward-array.org/doc/main/index.html), and [`pythreejs`](https://github.com/jupyter-widgets/pythreejs) (a Python–`three.js` bridge for Jupyter widgets), it offers lightweight, synoptic views of events directly from NanoAOD."
   ]
  },
  {
   "cell_type": "markdown",
   "id": "748f2c73-5157-4068-a3d3-c28dbd4f2b30",
   "metadata": {},
   "source": [
    "## NanoAOD data\n",
    "\n",
    "Let's fetch some NanoAOD data and have a quick look at the contents. CMS has released [32 collision datasets](https://opendata.cern.ch/search?q=&f=experiment%3ACMS&f=type%3ADataset%2Bsubtype%3ASimulated&f=type%3ADataset%2Bsubtype%3ACollision&f=file_type%3Ananoaod&l=list&order=desc&p=1&s=10&sort=mostrecent) of NanoAOD from 2016 and [over 20,000 corresponding simulation datasets](https://opendata.cern.ch/search?q=&f=experiment%3ACMS&f=type%3ADataset%2Bsubtype%3ASimulated&f=type%3ADataset%2Bsubtype%3ACollision&f=file_type%3Ananoaodsim&l=list&order=desc&p=1&s=10&sort=mostrecent) as open data which can be found via the [CERN Open Data Portal](https://opendata.cern.ch/). \n",
    "\n",
    "Let's fetch a file from the [DoubleMuon primary dataset in NANOAOD format from RunH of 2016](https://opendata.cern.ch/record/30555):"
   ]
  },
  {
   "cell_type": "code",
   "execution_count": 1,
   "id": "06c2970e-6fa1-4d7e-8ee4-f042d1974af4",
   "metadata": {},
   "outputs": [],
   "source": [
    "import os\n",
    "import subprocess\n",
    "\n",
    "file_name = 'EEB2FE3F-7CF3-BF4A-9F70-3F89FACE698E.root'\n",
    "file_url = f'http://opendata.cern.ch/eos/opendata/cms/Run2016H/DoubleMuon/NANOAOD/UL2016_MiniAODv2_NanoAODv9-v1/2510000/{file_name}'\n",
    "\n",
    "if not (os.path.isfile(f'{file_name}')):\n",
    "    subprocess.run(['curl', '-O', f'{file_url}'])"
   ]
  },
  {
   "cell_type": "markdown",
   "id": "5321d43f-67ff-4514-b721-3f6cab7092cb",
   "metadata": {},
   "source": [
    "Internally, `ispynanoaod` reads in the NanoAOD file using `uproot` into `awkward` arrays using the `DataLoader` class:"
   ]
  },
  {
   "cell_type": "code",
   "execution_count": 2,
   "id": "562fa204-918b-49b8-a1b1-44de3e5a4cad",
   "metadata": {},
   "outputs": [],
   "source": [
    "import ispynanoaod as ispy\n",
    "\n",
    "data_loader = ispy.DataLoader()\n",
    "events = data_loader.load_root_file(filename=file_name)"
   ]
  },
  {
   "cell_type": "markdown",
   "id": "a37de63f-7614-45a8-b24f-832cb78c706c",
   "metadata": {},
   "source": [
    "Currently only a subset of the branches are read in and supported for display:\n",
    "\n",
    "```\n",
    " DEFAULT_BRANCHES = [\n",
    "\t'run', 'event', 'luminosityBlock',\n",
    "        'nJet', 'Jet_pt', 'Jet_eta', 'Jet_phi',\n",
    "\t'MET_pt', 'MET_phi',\n",
    "\t'nPhoton', 'Photon_pt', 'Photon_eta', 'Photon_phi',\n",
    "        'nMuon', 'Muon_pt', 'Muon_eta', 'Muon_phi', 'Muon_charge',\n",
    "        'nElectron', 'Electron_pt', 'Electron_eta', 'Electron_phi',\n",
    "        'Electron_charge',\n",
    "        'nSV', 'SV_x', 'SV_y', 'SV_z',\n",
    "        'PV_x', 'PV_y', 'PV_z',\n",
    "        'nFatJet', 'FatJet_pt', 'FatJet_eta', 'FatJet_phi',\n",
    "        'nIsoTrack', 'IsoTrack_pt', 'IsoTrack_eta', 'IsoTrack_phi',\n",
    "        'IsoTrack_charge',\n",
    "    ]\n",
    "```\n",
    "\n",
    "The full list of branches and contents of this particular NanoAOD dataset can be found [here](https://opendata.cern.ch/eos/opendata/cms/dataset-semantics/NanoAOD/30555/DoubleMuon_doc.html)."
   ]
  },
  {
   "cell_type": "code",
   "execution_count": 3,
   "id": "0c5851f9-3289-4083-acc0-45b5502813c3",
   "metadata": {},
   "outputs": [
    {
     "data": {
      "text/html": [
       "<pre>[{run: 281693, event: 162400163, luminosityBlock: 85, nJet: 2, ...},\n",
       " {run: 281693, event: 162245987, luminosityBlock: 85, nJet: 5, ...},\n",
       " {run: 281693, event: 162932188, luminosityBlock: 85, nJet: 5, ...},\n",
       " {run: 281693, event: 162745892, luminosityBlock: 85, nJet: 4, ...},\n",
       " {run: 281693, event: 163021537, luminosityBlock: 85, nJet: 4, ...},\n",
       " {run: 281693, event: 163280248, luminosityBlock: 85, nJet: 4, ...},\n",
       " {run: 281693, event: 162321904, luminosityBlock: 85, nJet: 7, ...},\n",
       " {run: 281693, event: 163781325, luminosityBlock: 85, nJet: 4, ...},\n",
       " {run: 281693, event: 162372999, luminosityBlock: 85, nJet: 2, ...},\n",
       " {run: 281693, event: 163550924, luminosityBlock: 85, nJet: 5, ...},\n",
       " ...,\n",
       " {run: 281693, event: 864651007, luminosityBlock: 459, nJet: 7, ...},\n",
       " {run: 281693, event: 865720851, luminosityBlock: 459, nJet: 9, ...},\n",
       " {run: 281693, event: 865406703, luminosityBlock: 459, nJet: 4, ...},\n",
       " {run: 281693, event: 865318519, luminosityBlock: 459, nJet: 5, ...},\n",
       " {run: 281693, event: 864870007, luminosityBlock: 459, nJet: 8, ...},\n",
       " {run: 281693, event: 864492156, luminosityBlock: 459, nJet: 10, ...},\n",
       " {run: 281693, event: 864364260, luminosityBlock: 459, nJet: 4, ...},\n",
       " {run: 281693, event: 864910299, luminosityBlock: 459, nJet: 9, ...},\n",
       " {run: 281693, event: 864616547, luminosityBlock: 459, nJet: 6, ...}]\n",
       "----------------------------------------------------------------------\n",
       "backend: cpu\n",
       "nbytes: 114.4 MB\n",
       "type: 285647 * {\n",
       "    run: uint32,\n",
       "    event: uint64,\n",
       "    luminosityBlock: uint32,\n",
       "    nJet: uint32,\n",
       "    Jet_pt: var * float32,\n",
       "    Jet_eta: var * float32,\n",
       "    Jet_phi: var * float32,\n",
       "    MET_pt: float32,\n",
       "    MET_phi: float32,\n",
       "    nPhoton: uint32,\n",
       "    ...\n",
       "}</pre>"
      ],
      "text/plain": [
       "<Array [{run: 281693, event: ..., ...}, ...] type='285647 * {run: uint32, e...'>"
      ]
     },
     "execution_count": 3,
     "metadata": {},
     "output_type": "execute_result"
    }
   ],
   "source": [
    "events"
   ]
  },
  {
   "cell_type": "code",
   "execution_count": 4,
   "id": "73da4590-420c-4a04-80f2-db7d6919c247",
   "metadata": {},
   "outputs": [
    {
     "data": {
      "text/html": [
       "<pre>{run: 281693,\n",
       " event: 162400163,\n",
       " luminosityBlock: 85,\n",
       " nJet: 2,\n",
       " Jet_pt: [31.5, 18.7],\n",
       " Jet_eta: [0.458, 0.247],\n",
       " Jet_phi: [0.951, -2.39],\n",
       " MET_pt: 15.9,\n",
       " MET_phi: 0.606,\n",
       " nPhoton: 0,\n",
       " Photon_pt: [],\n",
       " Photon_eta: [],\n",
       " Photon_phi: [],\n",
       " nMuon: 2,\n",
       " Muon_pt: [28.1, 12.1],\n",
       " Muon_eta: [0.457, -0.934],\n",
       " Muon_phi: [0.948, -3.02],\n",
       " Muon_charge: [-1, 1],\n",
       " nElectron: 0,\n",
       " ...}\n",
       "---------------------------\n",
       "backend: cpu\n",
       "nbytes: 114.4 MB\n",
       "type: {\n",
       "    run: uint32,\n",
       "    event: uint64,\n",
       "    luminosityBlock: uint32,\n",
       "    nJet: uint32,\n",
       "    Jet_pt: var * float32,\n",
       "    Jet_eta: var * float32,\n",
       "    Jet_phi: var * float32,\n",
       "    MET_pt: float32,\n",
       "    MET_phi: float32,\n",
       "    nPhoton: uint32,\n",
       "    ...\n",
       "}</pre>"
      ],
      "text/plain": [
       "<Record {run: 281693, event: 162400163, ...} type='{run: uint32, event: uin...'>"
      ]
     },
     "execution_count": 4,
     "metadata": {},
     "output_type": "execute_result"
    }
   ],
   "source": [
    "events[0]"
   ]
  },
  {
   "cell_type": "markdown",
   "id": "d771856b-3d79-4d6f-80bc-a32e806941b1",
   "metadata": {},
   "source": [
    "## Visualization\n",
    "\n",
    "The API is very simple:"
   ]
  },
  {
   "cell_type": "code",
   "execution_count": 5,
   "id": "f82bb7f0-d553-47ad-9663-ea3f000cbcbb",
   "metadata": {},
   "outputs": [
    {
     "data": {
      "application/vnd.jupyter.widget-view+json": {
       "model_id": "7b55cfd85a83407d9a2b5ce22dd2e627",
       "version_major": 2,
       "version_minor": 0
      },
      "text/plain": [
       "HBox(children=(Button(icon='step-backward', style=ButtonStyle(), tooltip='Previous Event'), Button(icon='step-…"
      ]
     },
     "metadata": {},
     "output_type": "display_data"
    },
    {
     "data": {
      "application/vnd.jupyter.widget-view+json": {
       "model_id": "b322fa91b789468e84fe62dd1aab7573",
       "version_major": 2,
       "version_minor": 0
      },
      "text/plain": [
       "VBox(children=(HTML(value=''),))"
      ]
     },
     "metadata": {},
     "output_type": "display_data"
    },
    {
     "data": {
      "application/vnd.jupyter.widget-view+json": {
       "model_id": "526461ee195643e79a7b229fc6f11419",
       "version_major": 2,
       "version_minor": 0
      },
      "text/plain": [
       "VBox(children=(HTML(value='Object info: '),))"
      ]
     },
     "metadata": {},
     "output_type": "display_data"
    },
    {
     "data": {
      "application/vnd.jupyter.widget-view+json": {
       "model_id": "1e290980837147e782034d950d7cba9f",
       "version_major": 2,
       "version_minor": 0
      },
      "text/plain": [
       "Renderer(camera=PerspectiveCamera(aspect=1.6, children=(DirectionalLight(color='white', position=(-15.0, 15.0,…"
      ]
     },
     "metadata": {},
     "output_type": "display_data"
    },
    {
     "name": "stderr",
     "output_type": "stream",
     "text": [
      "/Users/mccauley/pyhep2025-ispynanoaod/pyhep/lib/python3.11/site-packages/traittypes/traittypes.py:97: UserWarning: Given trait value dtype \"float64\" does not match required type \"float32\". A coerced copy has been created.\n",
      "  warnings.warn(\n"
     ]
    }
   ],
   "source": [
    "display = ispy.EventDisplay()\n",
    "display.load_file(file_name)\n",
    "display.display()"
   ]
  },
  {
   "cell_type": "markdown",
   "id": "3d058a96-27eb-43da-a01f-3d9f002c4f64",
   "metadata": {},
   "source": [
    "Here's an example of a bit more of the API in which we change the colors and display dimensions:"
   ]
  },
  {
   "cell_type": "code",
   "execution_count": 9,
   "id": "6f54e8cf-e7e0-4f89-a418-6d7f11c969e8",
   "metadata": {},
   "outputs": [
    {
     "data": {
      "application/vnd.jupyter.widget-view+json": {
       "model_id": "6ae6bd22adf0456ab9eff8f58d0791c4",
       "version_major": 2,
       "version_minor": 0
      },
      "text/plain": [
       "HBox(children=(Button(icon='step-backward', style=ButtonStyle(), tooltip='Previous Event'), Button(icon='step-…"
      ]
     },
     "metadata": {},
     "output_type": "display_data"
    },
    {
     "data": {
      "application/vnd.jupyter.widget-view+json": {
       "model_id": "ff1fdb159c964390aefdbcaa62ba7582",
       "version_major": 2,
       "version_minor": 0
      },
      "text/plain": [
       "VBox(children=(HTML(value=''),))"
      ]
     },
     "metadata": {},
     "output_type": "display_data"
    },
    {
     "data": {
      "application/vnd.jupyter.widget-view+json": {
       "model_id": "9b3ac273db9543c6aab05ef8efab241e",
       "version_major": 2,
       "version_minor": 0
      },
      "text/plain": [
       "VBox(children=(HTML(value='Object info: '),))"
      ]
     },
     "metadata": {},
     "output_type": "display_data"
    },
    {
     "data": {
      "application/vnd.jupyter.widget-view+json": {
       "model_id": "f31789ec3cde42369b555b1960d3592e",
       "version_major": 2,
       "version_minor": 0
      },
      "text/plain": [
       "Renderer(camera=PerspectiveCamera(aspect=1.3333333333333333, children=(DirectionalLight(color='white', positio…"
      ]
     },
     "metadata": {},
     "output_type": "display_data"
    }
   ],
   "source": [
    "display = ispy.EventDisplay(\n",
    "    width=800,\n",
    "    height=600,\n",
    "    background='#ececec'\n",
    ")\n",
    "\n",
    "display.object_factory.set_style('jet', color='#ffaa00', opacity=0.8)\n",
    "display.object_factory.set_style('muon', color='#ff4444')\n",
    "display.object_factory.set_style('electron', color='#0000ff')\n",
    "display.object_factory.set_style('met', color='#00ff00')\n",
    "\n",
    "display.detector_geometry.configure_eb(\n",
    "    color='#4444ff',\n",
    "    opacity=0.3,\n",
    ")\n",
    "\n",
    "display.load_file(file_name)\n",
    "display.display()"
   ]
  },
  {
   "cell_type": "markdown",
   "id": "9881a625-c35d-4f6f-98ea-a06d5fb3a373",
   "metadata": {},
   "source": [
    "### Features\n",
    "\n",
    "* Orbit controls: rotate, zoom, panning\n",
    "* Picking of objects\n",
    "* Simplified ECAL Barrel geometry for context\n",
    "* Rendering of a subset of physics objects in NanoAOD\n",
    "* Event navigation\n",
    "* Support for versioning evolution of NanoAOD"
   ]
  },
  {
   "cell_type": "markdown",
   "id": "6597b41e-9bcb-441b-b1aa-fe8cac396628",
   "metadata": {},
   "source": [
    "## To-do\n",
    "\n",
    "* Support for more objects\n",
    "* Display more of the object data (in e.g. a table view)\n",
    "* Selection of event range and specific events in input file\n",
    "* Improved geometry support\n",
    "* Expose rendering properties such as visibility, opacity, and color to widget\n",
    "* Documentation "
   ]
  },
  {
   "cell_type": "markdown",
   "id": "a7ab6ab3-fac2-4673-9b22-543f0c2ba6b0",
   "metadata": {},
   "source": [
    "## Summary\n",
    "\n",
    "`ispynanoaod` is a python demonstrator of event visualization of CMS NanoAOD in a Jupyter notebook. It offers lightweight, synoptic views of events directly from NanoAOD.\n",
    "\n",
    "The source code is on [GitHub](https://github.com/cms-outreach/ispy-nanoaod) and is installed via `pip` (current version 0.1.2):\n",
    "\n",
    "```\n",
    "pip install ispynanoaod\n",
    "```"
   ]
  },
  {
   "cell_type": "markdown",
   "id": "e4594ed7-0d43-41a4-a905-89706b90f6f6",
   "metadata": {},
   "source": [
    "## Links\n",
    "\n",
    "* [PyHEP](https://indico.cern.ch/event/1566263/)\n",
    "* [ispy-nanoaod GitHub](https://github.com/cms-outreach/ispy-nanoaod)\n",
    "* [ispy-nanoaod PyPi](https://pypi.org/project/ispynanoaod/)\n",
    "* [ispy-nanoaod Zenodo](https://zenodo.org/records/17369554)\n",
    "* [DoubleMuon primary dataset in NANOAOD format from RunH of 2016](https://opendata.cern.ch/record/30555)\n",
    "* DoubleMuon dataset [variable list](https://opendata.cern.ch/eos/opendata/cms/dataset-semantics/NanoAOD/30555/DoubleMuon_doc.html)\n",
    "* [three.js](https://threejs.org/)\n",
    "* [uproot](https://github.com/scikit-hep/uproot5)\n",
    "* [awkward](https://awkward-array.org/doc/main/index.html)\n",
    "* [pythreejs](https://github.com/jupyter-widgets/pythreejs)"
   ]
  },
  {
   "cell_type": "markdown",
   "id": "241ac2a2-a79c-4430-8013-50587a2c0ce8",
   "metadata": {},
   "source": [
    "## Acknowledgements\n",
    "\n",
    "Thanks to Ianna Osbourne, Jim Pivarski, and Achim Geiser for useful discussions."
   ]
  },
  {
   "cell_type": "code",
   "execution_count": null,
   "id": "2151c410-eef4-4087-8d0e-f6b7dd24b81a",
   "metadata": {},
   "outputs": [],
   "source": []
  }
 ],
 "metadata": {
  "kernelspec": {
   "display_name": "Python 3 (ipykernel)",
   "language": "python",
   "name": "python3"
  },
  "language_info": {
   "codemirror_mode": {
    "name": "ipython",
    "version": 3
   },
   "file_extension": ".py",
   "mimetype": "text/x-python",
   "name": "python",
   "nbconvert_exporter": "python",
   "pygments_lexer": "ipython3",
   "version": "3.11.5"
  }
 },
 "nbformat": 4,
 "nbformat_minor": 5
}
